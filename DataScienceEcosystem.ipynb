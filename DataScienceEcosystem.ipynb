{
  "metadata": {
    "kernelspec": {
      "name": "python",
      "display_name": "Python (Pyodide)",
      "language": "python"
    },
    "language_info": {
      "codemirror_mode": {
        "name": "python",
        "version": 3
      },
      "file_extension": ".py",
      "mimetype": "text/x-python",
      "name": "python",
      "nbconvert_exporter": "python",
      "pygments_lexer": "ipython3",
      "version": "3.8"
    }
  },
  "nbformat_minor": 4,
  "nbformat": 4,
  "cells": [
    {
      "cell_type": "markdown",
      "source": "# Data Science Tools and Ecosystem",
      "metadata": {}
    },
    {
      "cell_type": "markdown",
      "source": "## This Notebook reviews the tools and Ecosystem of a Data Scientist.",
      "metadata": {}
    },
    {
      "cell_type": "markdown",
      "source": "### Popular Data Scientist Languages: \n### 1. Python\n### 2. R\n### 3. SQL\n### 4. JavaScript",
      "metadata": {}
    },
    {
      "cell_type": "markdown",
      "source": "### Data Science Libraries:\n#### 1. NumPy\n#### 2. Pandas\n#### 3. Matplotlib",
      "metadata": {}
    },
    {
      "cell_type": "markdown",
      "source": "### Open source tools:\n|Name|\n|----|\n|Rstudio|\n|Jupyter Notebooks|\n|Apache Hadoop|\n",
      "metadata": {}
    },
    {
      "cell_type": "markdown",
      "source": "### Below are a few examples of evaluating arithmetic expressions in Python",
      "metadata": {}
    },
    {
      "cell_type": "code",
      "source": "# multiples 3 by 4 and then adds 5\n(3*4)+5",
      "metadata": {
        "trusted": true
      },
      "outputs": [
        {
          "execution_count": 4,
          "output_type": "execute_result",
          "data": {
            "text/plain": "17"
          },
          "metadata": {}
        }
      ],
      "execution_count": 4
    },
    {
      "cell_type": "code",
      "source": "#converts 200 minutes into hours by dviding 200 / 60\n200/60",
      "metadata": {
        "trusted": true
      },
      "outputs": [
        {
          "execution_count": 5,
          "output_type": "execute_result",
          "data": {
            "text/plain": "3.3333333333333335"
          },
          "metadata": {}
        }
      ],
      "execution_count": 5
    },
    {
      "cell_type": "markdown",
      "source": "**Objectives:** \n\n* Using Heading Styles\n* Common Languages in Data Science\n* Common Tools in Data Science\n* Calculated operations using code\n* create lists",
      "metadata": {}
    },
    {
      "cell_type": "markdown",
      "source": "## Arthor\nMLEE",
      "metadata": {}
    },
    {
      "cell_type": "code",
      "source": "",
      "metadata": {
        "trusted": true
      },
      "outputs": [],
      "execution_count": null
    }
  ]
}